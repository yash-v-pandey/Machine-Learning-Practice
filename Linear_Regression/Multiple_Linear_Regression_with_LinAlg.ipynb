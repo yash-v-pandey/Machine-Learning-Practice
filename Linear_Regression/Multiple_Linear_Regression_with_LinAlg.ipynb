{
 "cells": [
  {
   "cell_type": "markdown",
   "id": "fb365d9d",
   "metadata": {},
   "source": [
    "\n",
    "# Multiple Linear Regression with Linear Algebra\n",
    "\n",
    "This notebook builds on the previous **Simple Linear Regression** notebook where we used linear algebra to solve for a single feature and intercept.\n",
    "\n",
    "Now, we expand the method to **multiple features** — and the beauty of linear algebra is that **the exact same steps apply**, no matter how many variables we include. This is the true power of matrix-based computation in machine learning: all variables are embedded within matrices, making the workflow scalable and efficient.\n"
   ]
  },
  {
   "cell_type": "code",
   "execution_count": 3,
   "id": "a755563b",
   "metadata": {},
   "outputs": [
    {
     "name": "stdout",
     "output_type": "stream",
     "text": [
      "[[2.500e+01 1.000e+00 3.045e+04]\n",
      " [3.000e+01 3.000e+00 3.567e+04]\n",
      " [4.700e+01 2.000e+00 3.158e+04]\n",
      " [3.200e+01 5.000e+00 4.013e+04]\n",
      " [4.300e+01 1.000e+01 4.783e+04]\n",
      " [5.100e+01 7.000e+00 4.163e+04]\n",
      " [2.800e+01 5.000e+00 4.134e+04]\n",
      " [3.300e+01 4.000e+00 3.765e+04]\n",
      " [3.700e+01 5.000e+00 4.025e+04]\n",
      " [3.900e+01 8.000e+00 4.515e+04]\n",
      " [2.900e+01 1.000e+00 2.784e+04]\n",
      " [4.700e+01 9.000e+00 4.611e+04]\n",
      " [5.400e+01 5.000e+00 3.672e+04]\n",
      " [5.100e+01 4.000e+00 3.480e+04]\n",
      " [4.400e+01 1.200e+01 5.130e+04]\n",
      " [4.100e+01 6.000e+00 3.890e+04]\n",
      " [5.800e+01 1.700e+01 6.360e+04]\n",
      " [2.300e+01 1.000e+00 3.087e+04]\n",
      " [4.400e+01 9.000e+00 4.419e+04]\n",
      " [3.700e+01 1.000e+01 4.870e+04]]\n"
     ]
    }
   ],
   "source": [
    "\n",
    "import numpy as np\n",
    "\n",
    "data = np.loadtxt('data/multiple_linear_regression_dataset.csv', delimiter=',', skiprows=1)\n",
    "print(data)\n"
   ]
  },
  {
   "cell_type": "markdown",
   "id": "2e4d584b",
   "metadata": {},
   "source": [
    "\n",
    "## Step 1: Construct Design Matrix (X)\n",
    "\n",
    "We formulate the problem as \\( Y = X B \\), where:\n",
    "- `Y` is the output vector (n × 1)\n",
    "- `X` is the input matrix with a column of 1s for the intercept (n × p+1)\n",
    "- `B` is the vector of coefficients (p+1 × 1)\n"
   ]
  },
  {
   "cell_type": "code",
   "execution_count": 4,
   "id": "7659b626",
   "metadata": {},
   "outputs": [
    {
     "name": "stdout",
     "output_type": "stream",
     "text": [
      "[[ 1. 25.  1.]\n",
      " [ 1. 30.  3.]\n",
      " [ 1. 47.  2.]\n",
      " [ 1. 32.  5.]\n",
      " [ 1. 43. 10.]\n",
      " [ 1. 51.  7.]\n",
      " [ 1. 28.  5.]\n",
      " [ 1. 33.  4.]\n",
      " [ 1. 37.  5.]\n",
      " [ 1. 39.  8.]\n",
      " [ 1. 29.  1.]\n",
      " [ 1. 47.  9.]\n",
      " [ 1. 54.  5.]\n",
      " [ 1. 51.  4.]\n",
      " [ 1. 44. 12.]\n",
      " [ 1. 41.  6.]\n",
      " [ 1. 58. 17.]\n",
      " [ 1. 23.  1.]\n",
      " [ 1. 44.  9.]\n",
      " [ 1. 37. 10.]]\n"
     ]
    }
   ],
   "source": [
    "\n",
    "# Add a bias (1s) column for the intercept term\n",
    "xMatrix = np.column_stack((np.ones(len(data[:, 0])), data[:, 0:2]))\n",
    "print(xMatrix)\n"
   ]
  },
  {
   "cell_type": "markdown",
   "id": "21f9b62c",
   "metadata": {},
   "source": [
    "\n",
    "## Step 2: Apply the Normal Equation\n",
    "\n",
    "We solve for B using the formula:  \n",
    "\\[ B = (X^T X)^{-1} X^T Y \\]\n"
   ]
  },
  {
   "cell_type": "code",
   "execution_count": 5,
   "id": "5392d0b0",
   "metadata": {},
   "outputs": [
    {
     "name": "stdout",
     "output_type": "stream",
     "text": [
      "[[2.0000e+01 7.9300e+02 1.2400e+02]\n",
      " [7.9300e+02 3.3353e+04 5.4000e+03]\n",
      " [1.2400e+02 5.4000e+03 1.0920e+03]]\n",
      "[[ 9.45962395e-01 -2.55795643e-02  1.90753755e-02]\n",
      " [-2.55795643e-02  8.42074108e-04 -1.25946356e-03]\n",
      " [ 1.90753755e-02 -1.25946356e-03  4.97779915e-03]]\n"
     ]
    }
   ],
   "source": [
    "\n",
    "# Compute (X^T * X)\n",
    "xSquare = xMatrix.T @ xMatrix\n",
    "print(xSquare)\n",
    "\n",
    "# Compute its inverse\n",
    "xInv = np.linalg.inv(xSquare)\n",
    "print(xInv)\n"
   ]
  },
  {
   "cell_type": "markdown",
   "id": "5dfca512",
   "metadata": {},
   "source": [
    "\n",
    "## Step 3: Solve for Coefficients\n",
    "\n",
    "Multiply the inverted matrix with \\( X^T \\) and then with \\( Y \\) to get the coefficient vector \\( B \\).\n"
   ]
  },
  {
   "cell_type": "code",
   "execution_count": 6,
   "id": "443e7ac8",
   "metadata": {},
   "outputs": [
    {
     "name": "stdout",
     "output_type": "stream",
     "text": [
      "Coefficient Vector B: [31261.6898541    -99.19535546  2162.40419192]\n"
     ]
    }
   ],
   "source": [
    "\n",
    "# Extract the last column as output variable Y\n",
    "lastCol = data[:, -1]\n",
    "\n",
    "# Compute B matrix\n",
    "bMatrix = xInv @ xMatrix.T @ lastCol\n",
    "print(\"Coefficient Vector B:\", bMatrix)\n"
   ]
  },
  {
   "cell_type": "markdown",
   "id": "1271a769",
   "metadata": {},
   "source": [
    "\n",
    "## Step 4: Display Final Regression Equation\n"
   ]
  },
  {
   "cell_type": "code",
   "execution_count": 7,
   "id": "a050ed3c",
   "metadata": {},
   "outputs": [
    {
     "name": "stdout",
     "output_type": "stream",
     "text": [
      "y = 31262.0 + -99.0x1\n",
      " + 2162.0x2\n"
     ]
    }
   ],
   "source": [
    "\n",
    "print(f\"y = {np.round(bMatrix[0])}\", end=\"\")\n",
    "for i in range(len(bMatrix)-1):\n",
    "    print(f\" + {np.round(bMatrix[i+1])}x{i+1}\")\n"
   ]
  },
  {
   "cell_type": "markdown",
   "id": "dbbc7195",
   "metadata": {},
   "source": [
    "\n",
    "## Step 5: Visualize Actual vs Predicted\n",
    "\n",
    "We compare predicted outputs to actual values using a scatterplot. A perfect model would align all points along the red diagonal line.\n"
   ]
  },
  {
   "cell_type": "code",
   "execution_count": 8,
   "id": "98d3c2b9",
   "metadata": {},
   "outputs": [
    {
     "name": "stdout",
     "output_type": "stream",
     "text": [
      "[30944.2101595  34773.04176604 30924.31653128 38899.45943897\n",
      " 48620.33148852 41339.55606906 39296.24086081 36637.85989158\n",
      " 38403.48266166 44692.30452651 30547.42873765 46061.14587475\n",
      " 36717.16161883 34852.34349328 52845.9445169  40169.10543174\n",
      " 62269.23050007 31142.60087042 46358.73194113 49215.50362128]\n"
     ]
    },
    {
     "data": {
      "image/png": "[encoded data removed]",
      "text/plain": [
       "<Figure size 640x480 with 1 Axes>"
      ]
     },
     "metadata": {},
     "output_type": "display_data"
    }
   ],
   "source": [
    "\n",
    "from matplotlib import pyplot as plt\n",
    "\n",
    "# Compute predicted y values using the regression equation\n",
    "yEquation = xMatrix @ bMatrix\n",
    "print(yEquation)\n",
    "\n",
    "# Plot\n",
    "plt.scatter(lastCol, yEquation, alpha=0.6)\n",
    "plt.plot([yEquation.min(), yEquation.max()], [yEquation.min(), yEquation.max()], color='red', label='Perfect Prediction')\n",
    "plt.xlabel('Actual y')\n",
    "plt.ylabel('Predicted y')\n",
    "plt.title('Actual vs Predicted')\n",
    "plt.legend()\n",
    "plt.grid(True)\n",
    "plt.show()\n"
   ]
  },
  {
   "cell_type": "markdown",
   "id": "cd96ed59",
   "metadata": {},
   "source": [
    "\n",
    "## Step 6: Evaluate Model Performance\n",
    "\n",
    "We calculate:\n",
    "- Mean Squared Error (MSE)\n",
    "- Sum of Squares Error (SSE)\n",
    "- Total Sum of Squares (SST)\n",
    "- Coefficient of Determination (R²)\n"
   ]
  },
  {
   "cell_type": "code",
   "execution_count": 9,
   "id": "5e35892c",
   "metadata": {},
   "outputs": [
    {
     "name": "stdout",
     "output_type": "stream",
     "text": [
      "Mean Squared Error (MSE): 1533633.9787141795\n",
      "R² Score: 0.9773361310180797\n"
     ]
    }
   ],
   "source": [
    "\n",
    "mse = np.mean((yEquation - lastCol) ** 2)\n",
    "print(\"Mean Squared Error (MSE):\", mse)\n",
    "\n",
    "sse = np.sum((yEquation - lastCol) ** 2)\n",
    "sst = np.sum((lastCol - np.mean(lastCol)) ** 2)\n",
    "r2 = 1 - (sse / sst)\n",
    "print(\"R² Score:\", r2)\n"
   ]
  }
 ],
 "metadata": {
  "kernelspec": {
   "display_name": ".venv",
   "language": "python",
   "name": "python3"
  },
  "language_info": {
   "codemirror_mode": {
    "name": "ipython",
    "version": 3
   },
   "file_extension": ".py",
   "mimetype": "text/x-python",
   "name": "python",
   "nbconvert_exporter": "python",
   "pygments_lexer": "ipython3",
   "version": "3.12.6"
  }
 },
 "nbformat": 4,
 "nbformat_minor": 5
}
