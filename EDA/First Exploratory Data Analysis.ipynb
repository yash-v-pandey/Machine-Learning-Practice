{
 "cells": [
  {
   "cell_type": "markdown",
   "id": "2353913d",
   "metadata": {},
   "source": [
    "# 1) Importing Libraries and Dataset\n",
    "\n",
    "We begin our EDA by importing the necessary libraries and loading the dataset `TWO_CENTURIES_OF_UM_RACES.csv`. This Dataset contains ultramarathon race results, including event details, athlete information, and performance metrics."
   ]
  },
  {
   "cell_type": "code",
   "execution_count": 2,
   "id": "1c24b646",
   "metadata": {},
   "outputs": [
    {
     "name": "stderr",
     "output_type": "stream",
     "text": [
      "C:\\Users\\gamin\\AppData\\Local\\Temp\\ipykernel_17512\\1300914617.py:4: DtypeWarning: Columns (11) have mixed types. Specify dtype option on import or set low_memory=False.\n",
      "  df = pd.read_csv('../datasets/TWO_CENTURIES_OF_UM_RACES.csv')\n"
     ]
    },
    {
     "data": {
      "text/html": [
       "<div>\n",
       "<style scoped>\n",
       "    .dataframe tbody tr th:only-of-type {\n",
       "        vertical-align: middle;\n",
       "    }\n",
       "\n",
       "    .dataframe tbody tr th {\n",
       "        vertical-align: top;\n",
       "    }\n",
       "\n",
       "    .dataframe thead th {\n",
       "        text-align: right;\n",
       "    }\n",
       "</style>\n",
       "<table border=\"1\" class=\"dataframe\">\n",
       "  <thead>\n",
       "    <tr style=\"text-align: right;\">\n",
       "      <th></th>\n",
       "      <th>Year of event</th>\n",
       "      <th>Event dates</th>\n",
       "      <th>Event name</th>\n",
       "      <th>Event distance/length</th>\n",
       "      <th>Event number of finishers</th>\n",
       "      <th>Athlete performance</th>\n",
       "      <th>Athlete club</th>\n",
       "      <th>Athlete country</th>\n",
       "      <th>Athlete year of birth</th>\n",
       "      <th>Athlete gender</th>\n",
       "      <th>Athlete age category</th>\n",
       "      <th>Athlete average speed</th>\n",
       "      <th>Athlete ID</th>\n",
       "    </tr>\n",
       "  </thead>\n",
       "  <tbody>\n",
       "    <tr>\n",
       "      <th>0</th>\n",
       "      <td>2018</td>\n",
       "      <td>06.01.2018</td>\n",
       "      <td>Selva Costera (CHI)</td>\n",
       "      <td>50km</td>\n",
       "      <td>22</td>\n",
       "      <td>4:51:39 h</td>\n",
       "      <td>Tnfrc</td>\n",
       "      <td>CHI</td>\n",
       "      <td>1978.0</td>\n",
       "      <td>M</td>\n",
       "      <td>M35</td>\n",
       "      <td>10.286</td>\n",
       "      <td>0</td>\n",
       "    </tr>\n",
       "    <tr>\n",
       "      <th>1</th>\n",
       "      <td>2018</td>\n",
       "      <td>06.01.2018</td>\n",
       "      <td>Selva Costera (CHI)</td>\n",
       "      <td>50km</td>\n",
       "      <td>22</td>\n",
       "      <td>5:15:45 h</td>\n",
       "      <td>Roberto Echeverría</td>\n",
       "      <td>CHI</td>\n",
       "      <td>1981.0</td>\n",
       "      <td>M</td>\n",
       "      <td>M35</td>\n",
       "      <td>9.501</td>\n",
       "      <td>1</td>\n",
       "    </tr>\n",
       "    <tr>\n",
       "      <th>2</th>\n",
       "      <td>2018</td>\n",
       "      <td>06.01.2018</td>\n",
       "      <td>Selva Costera (CHI)</td>\n",
       "      <td>50km</td>\n",
       "      <td>22</td>\n",
       "      <td>5:16:44 h</td>\n",
       "      <td>Puro Trail Osorno</td>\n",
       "      <td>CHI</td>\n",
       "      <td>1987.0</td>\n",
       "      <td>M</td>\n",
       "      <td>M23</td>\n",
       "      <td>9.472</td>\n",
       "      <td>2</td>\n",
       "    </tr>\n",
       "    <tr>\n",
       "      <th>3</th>\n",
       "      <td>2018</td>\n",
       "      <td>06.01.2018</td>\n",
       "      <td>Selva Costera (CHI)</td>\n",
       "      <td>50km</td>\n",
       "      <td>22</td>\n",
       "      <td>5:34:13 h</td>\n",
       "      <td>Columbia</td>\n",
       "      <td>ARG</td>\n",
       "      <td>1976.0</td>\n",
       "      <td>M</td>\n",
       "      <td>M40</td>\n",
       "      <td>8.976</td>\n",
       "      <td>3</td>\n",
       "    </tr>\n",
       "    <tr>\n",
       "      <th>4</th>\n",
       "      <td>2018</td>\n",
       "      <td>06.01.2018</td>\n",
       "      <td>Selva Costera (CHI)</td>\n",
       "      <td>50km</td>\n",
       "      <td>22</td>\n",
       "      <td>5:54:14 h</td>\n",
       "      <td>Baguales Trail</td>\n",
       "      <td>CHI</td>\n",
       "      <td>1992.0</td>\n",
       "      <td>M</td>\n",
       "      <td>M23</td>\n",
       "      <td>8.469</td>\n",
       "      <td>4</td>\n",
       "    </tr>\n",
       "  </tbody>\n",
       "</table>\n",
       "</div>"
      ],
      "text/plain": [
       "   Year of event Event dates           Event name Event distance/length  \\\n",
       "0           2018  06.01.2018  Selva Costera (CHI)                  50km   \n",
       "1           2018  06.01.2018  Selva Costera (CHI)                  50km   \n",
       "2           2018  06.01.2018  Selva Costera (CHI)                  50km   \n",
       "3           2018  06.01.2018  Selva Costera (CHI)                  50km   \n",
       "4           2018  06.01.2018  Selva Costera (CHI)                  50km   \n",
       "\n",
       "   Event number of finishers Athlete performance        Athlete club  \\\n",
       "0                         22           4:51:39 h               Tnfrc   \n",
       "1                         22           5:15:45 h  Roberto Echeverría   \n",
       "2                         22           5:16:44 h   Puro Trail Osorno   \n",
       "3                         22           5:34:13 h            Columbia   \n",
       "4                         22           5:54:14 h      Baguales Trail   \n",
       "\n",
       "  Athlete country  Athlete year of birth Athlete gender Athlete age category  \\\n",
       "0             CHI                 1978.0              M                  M35   \n",
       "1             CHI                 1981.0              M                  M35   \n",
       "2             CHI                 1987.0              M                  M23   \n",
       "3             ARG                 1976.0              M                  M40   \n",
       "4             CHI                 1992.0              M                  M23   \n",
       "\n",
       "  Athlete average speed  Athlete ID  \n",
       "0                10.286           0  \n",
       "1                 9.501           1  \n",
       "2                 9.472           2  \n",
       "3                 8.976           3  \n",
       "4                 8.469           4  "
      ]
     },
     "execution_count": 2,
     "metadata": {},
     "output_type": "execute_result"
    }
   ],
   "source": [
    "import pandas as pd\n",
    "import seaborn as sns\n",
    "\n",
    "df = pd.read_csv('../datasets/TWO_CENTURIES_OF_UM_RACES.csv')\n",
    "original_df = df.copy()\n",
    "df.head()"
   ]
  },
  {
   "cell_type": "markdown",
   "id": "77597f5f",
   "metadata": {},
   "source": [
    "## 2) Data Cleaning\n",
    "\n",
    "**Cleaning Steps:**\n",
    "1. Filter for 50mi/50km races, year 2020, USA only  \n",
    "2. Handle missing values \n",
    "3. Remove unnecessary columns/rows  \n",
    "4. Correct Strings and data types  \n",
    "5. Create new calculated columns  \n"
   ]
  },
  {
   "cell_type": "markdown",
   "id": "9a452031",
   "metadata": {},
   "source": [
    "### 2.1 Filtering for Relevant Races\n",
    "\n",
    "We select only 50mi/50km races from 2020 held in the USA to focus our analysis."
   ]
  },
  {
   "cell_type": "code",
   "execution_count": 3,
   "id": "ddfe1076",
   "metadata": {},
   "outputs": [],
   "source": [
    "#Filter for 50mi and 50k\n",
    "df = df[(df['Event distance/length'] == '50mi') | (df['Event distance/length'] == '50km')]"
   ]
  },
  {
   "cell_type": "code",
   "execution_count": 4,
   "id": "e29bf4f8",
   "metadata": {},
   "outputs": [],
   "source": [
    "#Filter for 2020\n",
    "df = df[df['Year of event'] == 2020]"
   ]
  },
  {
   "cell_type": "code",
   "execution_count": 5,
   "id": "b8f418a4",
   "metadata": {},
   "outputs": [
    {
     "data": {
      "text/plain": [
       "(26090, 14)"
      ]
     },
     "execution_count": 5,
     "metadata": {},
     "output_type": "execute_result"
    }
   ],
   "source": [
    "#Filter for USA\n",
    "df[['Event name', 'Event Country']] = df['Event name'].str.split('(', n=1, expand=True)\n",
    "df['Event Country'] = df['Event Country'].str.replace(')', '')\n",
    "df = df[df['Event Country'] == 'USA']\n",
    "df.shape"
   ]
  },
  {
   "cell_type": "markdown",
   "id": "9102b8cc",
   "metadata": {},
   "source": [
    "### 2.2 Handling Nulls\n",
    "\n",
    "To prepare the dataset for analysis, we first checked for missing values and dropped any fully empty rows. For columns that I know I will need for analysis (in this case, Athlete year of birth), we filled missing values with the average value instead of dropping them. This approach keeps the data usable while minimizing information loss.\n"
   ]
  },
  {
   "cell_type": "code",
   "execution_count": 6,
   "id": "1739c874",
   "metadata": {},
   "outputs": [
    {
     "data": {
      "text/plain": [
       "Year of event                   0\n",
       "Event dates                     0\n",
       "Event name                      0\n",
       "Event distance/length           0\n",
       "Event number of finishers       0\n",
       "Athlete performance             0\n",
       "Athlete club                 3119\n",
       "Athlete country                 0\n",
       "Athlete year of birth         233\n",
       "Athlete gender                  0\n",
       "Athlete age category          217\n",
       "Athlete average speed           0\n",
       "Athlete ID                      0\n",
       "Event Country                   0\n",
       "dtype: int64"
      ]
     },
     "execution_count": 6,
     "metadata": {},
     "output_type": "execute_result"
    }
   ],
   "source": [
    "#Search for Nulls\n",
    "nulls = df.isna().sum()\n",
    "nulls"
   ]
  },
  {
   "cell_type": "code",
   "execution_count": 7,
   "id": "865446df",
   "metadata": {},
   "outputs": [
    {
     "data": {
      "text/plain": [
       "Year of event                   0\n",
       "Event dates                     0\n",
       "Event name                      0\n",
       "Event distance/length           0\n",
       "Event number of finishers       0\n",
       "Athlete performance             0\n",
       "Athlete club                 3119\n",
       "Athlete country                 0\n",
       "Athlete year of birth           0\n",
       "Athlete gender                  0\n",
       "Athlete age category          217\n",
       "Athlete average speed           0\n",
       "Athlete ID                      0\n",
       "Event Country                   0\n",
       "dtype: int64"
      ]
     },
     "execution_count": 7,
     "metadata": {},
     "output_type": "execute_result"
    }
   ],
   "source": [
    "#drop rows where all elements are NaN as these are empty rows\n",
    "df = df.dropna(how = 'all')\n",
    "\n",
    "#filling the Athlete year of birth with the mean as I need this column to calculate age\n",
    "df = df.fillna({'Athlete year of birth': df['Athlete year of birth'].mean()})\n",
    "\n",
    "df.isna().sum()"
   ]
  },
  {
   "cell_type": "markdown",
   "id": "0b580247",
   "metadata": {},
   "source": [
    "### 2.3 Removing Unessarary Rows and Columns\n",
    "\n",
    "To ensure data quality, we remove duplicate entries. We also drop columns that are irrelevant for our analysis or contain excessive missing values, simplifying the dataset for more effective exploration."
   ]
  },
  {
   "cell_type": "code",
   "execution_count": 8,
   "id": "d9c9d61c",
   "metadata": {},
   "outputs": [],
   "source": [
    "#drops rows with the exact same values in all columns\n",
    "df = df.drop_duplicates()\n",
    "\n",
    "#drop specific columns that I feel are not helpful, or have too many NaN values\n",
    "df = df.drop(columns=['Athlete club', 'Athlete country', 'Athlete age category'])\n",
    "\n",
    "#reset dataframe indices after dropping rows\n",
    "df = df.reset_index(drop=True) "
   ]
  },
  {
   "cell_type": "markdown",
   "id": "e75cfb2c",
   "metadata": {},
   "source": [
    "### 2.4 Calculating new columns\n",
    "\n",
    "We calculated each athlete's age at a given event by subtracting the 'Athlete year of birth' from the 'Year of event'. Adding this column provides valuable information for further analysis and visualization for age-related trends.\n"
   ]
  },
  {
   "cell_type": "code",
   "execution_count": 9,
   "id": "b8bff821",
   "metadata": {},
   "outputs": [],
   "source": [
    "#Calculate Athlete Age\n",
    "df['Athlete Age'] = df['Year of event'] - df['Athlete year of birth']"
   ]
  },
  {
   "cell_type": "markdown",
   "id": "d4cce730",
   "metadata": {},
   "source": [
    "### 2.5 Cleaning strings and data types\n",
    "\n",
    "In this step, we standardize string formats and convert columns to appropriate data types. This ensures consistency and enables accurate calculations and analysis in the following steps."
   ]
  },
  {
   "cell_type": "code",
   "execution_count": 10,
   "id": "3e8c473e",
   "metadata": {},
   "outputs": [
    {
     "data": {
      "text/plain": [
       "array(['M', 'F'], dtype=object)"
      ]
     },
     "execution_count": 10,
     "metadata": {},
     "output_type": "execute_result"
    }
   ],
   "source": [
    "#Making sure there are no inconsistent strings (e.x some entries say 'M' while others say 'Male')\n",
    "df['Athlete gender'].unique()"
   ]
  },
  {
   "cell_type": "code",
   "execution_count": 11,
   "id": "9f7d4ba6",
   "metadata": {},
   "outputs": [],
   "source": [
    "#Remove 'h' from athlete performance strings as it is redundant\n",
    "df['Athlete performance'] = df['Athlete performance'].str.replace(' h', '')"
   ]
  },
  {
   "cell_type": "code",
   "execution_count": 12,
   "id": "d9872ea3",
   "metadata": {},
   "outputs": [
    {
     "data": {
      "text/plain": [
       "Year of event                  int64\n",
       "Event dates                   object\n",
       "Event name                    object\n",
       "Event distance/length         object\n",
       "Event number of finishers      int64\n",
       "Athlete performance           object\n",
       "Athlete year of birth        float64\n",
       "Athlete gender                object\n",
       "Athlete average speed        float64\n",
       "Athlete ID                     int64\n",
       "Event Country                 object\n",
       "Athlete Age                    int64\n",
       "dtype: object"
      ]
     },
     "execution_count": 12,
     "metadata": {},
     "output_type": "execute_result"
    }
   ],
   "source": [
    "#Change important numeric columns to correct data types so that I can perform calculations\n",
    "df['Athlete average speed'] = df['Athlete average speed'].astype(float)\n",
    "df['Athlete Age'] = df['Athlete Age'].astype(int)\n",
    "\n",
    "df.dtypes"
   ]
  },
  {
   "cell_type": "markdown",
   "id": "0d00fe65",
   "metadata": {},
   "source": [
    "## 3) Data Visualization and Analysis\n",
    "\n",
    "When approaching this part of the EDA process, set clear objectives for what questions you want your dataset to answer. Be curious. In my case, I want to answer two questions:\n",
    "\n",
    "1. How much faster/slower were Males than Females in these Ultramarathons?\n",
    "2. What age groups were the fastest?"
   ]
  },
  {
   "cell_type": "markdown",
   "id": "d8d62508",
   "metadata": {},
   "source": [
    "**1.1 Visualizing gender and speed**"
   ]
  },
  {
   "cell_type": "code",
   "execution_count": 13,
   "id": "829b5090",
   "metadata": {},
   "outputs": [
    {
     "data": {
      "text/plain": [
       "<Axes: xlabel='Athlete average speed', ylabel='Count'>"
      ]
     },
     "execution_count": 13,
     "metadata": {},
     "output_type": "execute_result"
    },
    {
     "data": {
      "image/png": "[encoded data removed]",
      "text/plain": [
       "<Figure size 640x480 with 1 Axes>"
      ]
     },
     "metadata": {},
     "output_type": "display_data"
    }
   ],
   "source": [
    "sns.histplot(df, x = 'Athlete average speed', hue = 'Athlete gender')"
   ]
  },
  {
   "cell_type": "markdown",
   "id": "756bce00",
   "metadata": {},
   "source": [
    "We see that the average athlete speed is higher for males (the peak of the histogram is further to the right). It's also important to note, however, that there are a lot more males in this dataset than there are females."
   ]
  },
  {
   "cell_type": "code",
   "execution_count": 14,
   "id": "8f609315",
   "metadata": {},
   "outputs": [
    {
     "data": {
      "text/plain": [
       "<Axes: xlabel='Athlete gender', ylabel='Athlete average speed'>"
      ]
     },
     "execution_count": 14,
     "metadata": {},
     "output_type": "execute_result"
    },
    {
     "data": {
      "image/png": "[encoded data removed]",
      "text/plain": [
       "<Figure size 640x480 with 1 Axes>"
      ]
     },
     "metadata": {},
     "output_type": "display_data"
    }
   ],
   "source": [
    "sns.boxplot(df, x = 'Athlete gender', y ='Athlete average speed', hue = 'Athlete gender')"
   ]
  },
  {
   "cell_type": "markdown",
   "id": "cca31be6",
   "metadata": {},
   "source": [
    "This box plot shows us that there are MANY outliers for our dataset. We are goign to remove these outliers before making any calculations/comparisions with this data"
   ]
  },
  {
   "cell_type": "code",
   "execution_count": 15,
   "id": "7e62bb8b",
   "metadata": {},
   "outputs": [
    {
     "name": "stdout",
     "output_type": "stream",
     "text": [
      "IQR: 2.1369999999999996\n",
      "Datapoints before removing outliers: 26090\n"
     ]
    }
   ],
   "source": [
    "Q1 = df['Athlete average speed'].quantile(0.25)\n",
    "Q3 = df['Athlete average speed'].quantile(0.75)\n",
    "IQR = Q3 - Q1\n",
    "\n",
    "print(f'IQR: {IQR}')\n",
    "print(f'Datapoints before removing outliers: {df.shape[0]}')"
   ]
  },
  {
   "cell_type": "code",
   "execution_count": 16,
   "id": "ef94644a",
   "metadata": {},
   "outputs": [
    {
     "name": "stdout",
     "output_type": "stream",
     "text": [
      "Datapoints after removing outliers: 25490\n"
     ]
    }
   ],
   "source": [
    "# Remove outliers that are outside the upper and lower extremes of the IQR\n",
    "df = df[(df['Athlete average speed'] >= (Q1 - 1.5 * IQR)) & (df['Athlete average speed'] <= (Q3 + 1.5 * IQR))]\n",
    "print(f'Datapoints after removing outliers: {df.shape[0]}')"
   ]
  },
  {
   "cell_type": "markdown",
   "id": "69b961d8",
   "metadata": {},
   "source": [
    "After visualizing the spread of the average speeds and removing outliers, we can jump into calculating the mean speeds of both males and females."
   ]
  },
  {
   "cell_type": "code",
   "execution_count": 17,
   "id": "28982e1a",
   "metadata": {},
   "outputs": [
    {
     "name": "stdout",
     "output_type": "stream",
     "text": [
      "7.476763190112516\n"
     ]
    }
   ],
   "source": [
    "#Make a df of just male entries\n",
    "males = df[df['Athlete gender'] == 'M']\n",
    "males = males[['Athlete gender', 'Athlete average speed']]\n",
    "males['Athlete average speed'].astype(float)\n",
    "\n",
    "#Calculate the average male speed\n",
    "avgSpeedM = males['Athlete average speed'].mean()\n",
    "males\n",
    "print(avgSpeedM)"
   ]
  },
  {
   "cell_type": "code",
   "execution_count": 18,
   "id": "33b36d29",
   "metadata": {},
   "outputs": [
    {
     "name": "stdout",
     "output_type": "stream",
     "text": [
      "7.006195513973852\n"
     ]
    }
   ],
   "source": [
    "#Make a df of just female entries\n",
    "females = df[df['Athlete gender'] == 'F']\n",
    "females = females[['Athlete gender', 'Athlete average speed']]\n",
    "females['Athlete average speed'].astype(float)\n",
    "\n",
    "#Calculate the average male speed\n",
    "avgSpeedF = females['Athlete average speed'].mean()\n",
    "females\n",
    "print(avgSpeedF)"
   ]
  },
  {
   "cell_type": "code",
   "execution_count": 19,
   "id": "5807cbdc",
   "metadata": {},
   "outputs": [
    {
     "name": "stdout",
     "output_type": "stream",
     "text": [
      "Males were 6.2937351922681755% faster\n"
     ]
    }
   ],
   "source": [
    "#This is how much faster males are than females for the specific Ultramarathon events we filtered for\n",
    "print(f'Males were {100* (avgSpeedM-avgSpeedF)/avgSpeedM}% faster')"
   ]
  },
  {
   "cell_type": "markdown",
   "id": "355c686e",
   "metadata": {},
   "source": [
    "SIDENOTE: I realized there is a much more efficient way of finding those averages above. \n",
    "\n",
    "The .groupby() command can be used to group multiple categories (in this case, Athlete genders), and compute different statistics on them individually (in this case, the mean of the athlete average speed column)."
   ]
  },
  {
   "cell_type": "code",
   "execution_count": 20,
   "id": "36bdfac2",
   "metadata": {},
   "outputs": [
    {
     "data": {
      "text/plain": [
       "Athlete gender\n",
       "F    7.006196\n",
       "M    7.476763\n",
       "Name: Athlete average speed, dtype: float64"
      ]
     },
     "execution_count": 20,
     "metadata": {},
     "output_type": "execute_result"
    }
   ],
   "source": [
    "group = df.groupby('Athlete gender')\n",
    "groupAVGSpeed = group[\"Athlete average speed\"].mean()\n",
    "\n",
    "groupAVGSpeed"
   ]
  },
  {
   "cell_type": "markdown",
   "id": "6329c830",
   "metadata": {},
   "source": [
    "With this function, you can group by multiple categories too:"
   ]
  },
  {
   "cell_type": "code",
   "execution_count": 21,
   "id": "b024ba8a",
   "metadata": {},
   "outputs": [
    {
     "data": {
      "text/plain": [
       "Event distance/length  Athlete gender\n",
       "50km                   F                 7.051054\n",
       "                       M                 7.570902\n",
       "50mi                   F                 6.814056\n",
       "                       M                 7.168017\n",
       "Name: Athlete average speed, dtype: float64"
      ]
     },
     "execution_count": 21,
     "metadata": {},
     "output_type": "execute_result"
    }
   ],
   "source": [
    "groupDistance = df.groupby(['Event distance/length', 'Athlete gender'])\n",
    "groupDistance['Athlete average speed'].mean()"
   ]
  },
  {
   "cell_type": "markdown",
   "id": "af0a3237",
   "metadata": {},
   "source": [
    "**1.2 Visualizing age and speed**"
   ]
  },
  {
   "cell_type": "code",
   "execution_count": 22,
   "id": "94bd8200",
   "metadata": {},
   "outputs": [
    {
     "data": {
      "text/plain": [
       "<Axes: xlabel='Athlete Age', ylabel='Count'>"
      ]
     },
     "execution_count": 22,
     "metadata": {},
     "output_type": "execute_result"
    },
    {
     "data": {
      "image/png": "[encoded data removed]",
      "text/plain": [
       "<Figure size 640x480 with 1 Axes>"
      ]
     },
     "metadata": {},
     "output_type": "display_data"
    }
   ],
   "source": [
    "sns.histplot(df, x = 'Athlete Age')"
   ]
  },
  {
   "cell_type": "markdown",
   "id": "6f213305",
   "metadata": {},
   "source": [
    "This just shows us the average age of people who run these marathons. This isn't integral to the problem that we're trying to solve, but its still good to know. Let's move on to calculating the mean speeds by age group."
   ]
  },
  {
   "cell_type": "code",
   "execution_count": 23,
   "id": "a1340b02",
   "metadata": {},
   "outputs": [],
   "source": [
    "#First drop entries for people below 20 races as these could be outliers\n",
    "x = df.groupby('Athlete Age').size()\n",
    "df[\"Race Count\"] = df[\"Athlete Age\"].map(x)\n",
    "dfx = df[df[\"Race Count\"] > 19]"
   ]
  },
  {
   "cell_type": "code",
   "execution_count": 24,
   "id": "71246cec",
   "metadata": {},
   "outputs": [
    {
     "data": {
      "text/plain": [
       "<Axes: xlabel='age', ylabel='speed'>"
      ]
     },
     "execution_count": 24,
     "metadata": {},
     "output_type": "execute_result"
    },
    {
     "data": {
      "image/png": "[encoded data removed]",
      "text/plain": [
       "<Figure size 640x480 with 1 Axes>"
      ]
     },
     "metadata": {},
     "output_type": "display_data"
    }
   ],
   "source": [
    "#Groups Athlete Age by mean speeds\n",
    "seriesx = dfx.groupby('Athlete Age')['Athlete average speed'].mean()\n",
    "\n",
    "#Sorts age froups from fastest to slowest\n",
    "Sorted = seriesx.sort_values(ascending=False)\n",
    "\n",
    "#Plots the average speed of each age group on a line plot to see how drastically the speed changes with age\n",
    "dataframex = seriesx.reset_index()\n",
    "dataframex.columns = ['age', 'speed']\n",
    "sns.lineplot(dataframex, x = 'age', y='speed')"
   ]
  },
  {
   "cell_type": "markdown",
   "id": "523465ac",
   "metadata": {},
   "source": [
    "This trend is expected: as age increases, average ultramarathon speed decreases. Interestingly, runners under 25 are slower on average than those aged 25–30. This may be due to fewer data points for the younger group."
   ]
  },
  {
   "cell_type": "markdown",
   "id": "14bd4b71",
   "metadata": {},
   "source": [
    "## The End!"
   ]
  }
 ],
 "metadata": {
  "kernelspec": {
   "display_name": ".venv",
   "language": "python",
   "name": "python3"
  },
  "language_info": {
   "codemirror_mode": {
    "name": "ipython",
    "version": 3
   },
   "file_extension": ".py",
   "mimetype": "text/x-python",
   "name": "python",
   "nbconvert_exporter": "python",
   "pygments_lexer": "ipython3",
   "version": "3.12.6"
  }
 },
 "nbformat": 4,
 "nbformat_minor": 5
}
